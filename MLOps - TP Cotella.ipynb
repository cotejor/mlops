{
 "cells": [
  {
   "cell_type": "markdown",
   "id": "252707c0",
   "metadata": {},
   "source": [
    "# Aplicación de herramientas de ML/DL para análisis de defectología de soldaduras ensayadas con gammagrafía industrial"
   ]
  },
  {
   "cell_type": "markdown",
   "id": "6a959be3",
   "metadata": {},
   "source": [
    "## Implementación en Keras"
   ]
  },
  {
   "cell_type": "code",
   "execution_count": 1,
   "id": "80fabb35",
   "metadata": {
    "scrolled": true
   },
   "outputs": [
    {
     "name": "stdout",
     "output_type": "stream",
     "text": [
      "Model: \"model\"\n",
      "_________________________________________________________________\n",
      " Layer (type)                Output Shape              Param #   \n",
      "=================================================================\n",
      " input_1 (InputLayer)        [(None, 28, 28, 1)]       0         \n",
      "                                                                 \n",
      " conv2d (Conv2D)             (None, 26, 26, 32)        320       \n",
      "                                                                 \n",
      " max_pooling2d (MaxPooling2D  (None, 13, 13, 32)       0         \n",
      " )                                                               \n",
      "                                                                 \n",
      " conv2d_1 (Conv2D)           (None, 11, 11, 64)        18496     \n",
      "                                                                 \n",
      " max_pooling2d_1 (MaxPooling  (None, 5, 5, 64)         0         \n",
      " 2D)                                                             \n",
      "                                                                 \n",
      " conv2d_2 (Conv2D)           (None, 3, 3, 128)         73856     \n",
      "                                                                 \n",
      " flatten (Flatten)           (None, 1152)              0         \n",
      "                                                                 \n",
      " dense (Dense)               (None, 10)                11530     \n",
      "                                                                 \n",
      "=================================================================\n",
      "Total params: 104,202\n",
      "Trainable params: 104,202\n",
      "Non-trainable params: 0\n",
      "_________________________________________________________________\n"
     ]
    }
   ],
   "source": [
    "from tensorflow import keras\n",
    "from tensorflow.keras import layers\n",
    "inputs = keras.Input(shape=(28, 28, 1))\n",
    "x = layers.Conv2D(filters=32, kernel_size=3, activation=\"relu\")(inputs)\n",
    "x = layers.MaxPooling2D(pool_size=2)(x)\n",
    "x = layers.Conv2D(filters=64, kernel_size=3, activation=\"relu\")(x)\n",
    "x = layers.MaxPooling2D(pool_size=2)(x)\n",
    "x = layers.Conv2D(filters=128, kernel_size=3, activation=\"relu\")(x)\n",
    "x = layers.Flatten()(x)\n",
    "outputs = layers.Dense(10, activation=\"softmax\")(x)\n",
    "model = keras.Model(inputs=inputs, outputs=outputs)\n",
    "model.summary()"
   ]
  },
  {
   "cell_type": "markdown",
   "id": "cca265e1",
   "metadata": {},
   "source": [
    "### Se va a usar el dataset \"Cats and dogs\" de kagle que contiene imágenes de perros y gatos. Acá es donde debería usarse el dataset con las imágenes de los ensayos de gammagrafía digitalizados:"
   ]
  },
  {
   "cell_type": "code",
   "execution_count": 5,
   "id": "9d4acdc8",
   "metadata": {},
   "outputs": [],
   "source": [
    "import os, shutil\n",
    "import tensorflow as tf"
   ]
  },
  {
   "cell_type": "code",
   "execution_count": 6,
   "id": "ba120987",
   "metadata": {},
   "outputs": [
    {
     "name": "stdout",
     "output_type": "stream",
     "text": [
      "Downloading data from https://storage.googleapis.com/mledu-datasets/cats_and_dogs_filtered.zip\n",
      "68606236/68606236 [==============================] - 3s 0us/step\n"
     ]
    }
   ],
   "source": [
    "# !kaggle competitions download -c dogs-vs-cats\n",
    "_URL = 'https://storage.googleapis.com/mledu-datasets/cats_and_dogs_filtered.zip'\n",
    "path_to_zip = tf.keras.utils.get_file('cats_and_dogs.zip', origin=_URL, extract=True)\n",
    "PATH = os.path.join(os.path.dirname(path_to_zip), 'cats_and_dogs_filtered')\n",
    "\n",
    "train_dir = os.path.join(PATH, 'train')\n",
    "validation_dir = os.path.join(PATH, 'validation')\n",
    "test_dir = os.path.join(PATH, 'test')"
   ]
  },
  {
   "cell_type": "markdown",
   "id": "efdc4057",
   "metadata": {},
   "source": [
    "#### Creación de los directorios. Acá irían los directorios con las imágenes tageadas por tipo de falla"
   ]
  },
  {
   "cell_type": "code",
   "execution_count": 7,
   "id": "4ede02ed",
   "metadata": {},
   "outputs": [],
   "source": [
    "\n",
    "# Directorio con imagenes de entrenamiento de gatos\n",
    "train_cats_dir = os.path.join(train_dir, 'cats')\n",
    "\n",
    "# Directorios con imagenes de entrenamiento de perros\n",
    "train_dogs_dir = os.path.join(train_dir, 'dogs')\n",
    "\n",
    "# Directorios con las imagenes de validacion de gatos\n",
    "validation_cats_dir = os.path.join(validation_dir, 'cats')\n",
    "\n",
    "# Directorios con las imagenes de validacion de perros\n",
    "validation_dogs_dir = os.path.join(validation_dir, 'dogs')\n",
    "\n",
    "# Directorios con imagenes de test de gatos\n",
    "test_cats_dir = os.path.join(test_dir, 'cats')"
   ]
  },
  {
   "cell_type": "markdown",
   "id": "18f0cd07",
   "metadata": {},
   "source": [
    "#### Cantidad de imágenes en cada split:"
   ]
  },
  {
   "cell_type": "code",
   "execution_count": 11,
   "id": "dc4bb5e4",
   "metadata": {},
   "outputs": [
    {
     "name": "stdout",
     "output_type": "stream",
     "text": [
      "Cantidad de inmágenes de GATOS para entrenamiento: 1000\n",
      "Cantidad de inmágenes de PERROS para entrenamiento: 1000\n"
     ]
    }
   ],
   "source": [
    "print('Cantidad de inmágenes de GATOS para entrenamiento:', len(os.listdir(train_cats_dir)))\n",
    "print('Cantidad de inmágenes de PERROS para entrenamiento:', len(os.listdir(train_dogs_dir)))"
   ]
  },
  {
   "cell_type": "code",
   "execution_count": 10,
   "id": "2ba5da82",
   "metadata": {},
   "outputs": [
    {
     "name": "stdout",
     "output_type": "stream",
     "text": [
      "Cantidad de imágenes de GATOS para validación: 500\n",
      "Cantidad de imágenes de PERROS para validación: 500\n"
     ]
    }
   ],
   "source": [
    "print('Cantidad de imágenes de GATOS para validación:', len(os.listdir(validation_cats_dir)))\n",
    "print('Cantidad de imágenes de PERROS para validación:', len(os.listdir(validation_dogs_dir)))"
   ]
  },
  {
   "cell_type": "markdown",
   "id": "102d2447",
   "metadata": {},
   "source": [
    "#### Construcción de la red:"
   ]
  },
  {
   "cell_type": "code",
   "execution_count": 12,
   "id": "27138dbc",
   "metadata": {},
   "outputs": [],
   "source": [
    "from keras import layers\n",
    "from keras import models\n",
    "\n",
    "model = models.Sequential()\n",
    "model.add(layers.Conv2D(32, (3, 3), activation='relu',\n",
    "                        input_shape=(150, 150, 3)))\n",
    "model.add(layers.MaxPooling2D((2, 2)))\n",
    "model.add(layers.Conv2D(64, (3, 3), activation='relu'))\n",
    "model.add(layers.MaxPooling2D((2, 2)))\n",
    "model.add(layers.Conv2D(128, (3, 3), activation='relu'))\n",
    "model.add(layers.MaxPooling2D((2, 2)))\n",
    "model.add(layers.Conv2D(128, (3, 3), activation='relu'))\n",
    "model.add(layers.MaxPooling2D((2, 2)))\n",
    "model.add(layers.Flatten())\n",
    "model.add(layers.Dense(512, activation='relu'))\n",
    "model.add(layers.Dense(1, activation='sigmoid'))"
   ]
  },
  {
   "cell_type": "markdown",
   "id": "e93e2891",
   "metadata": {},
   "source": [
    "#### Dimensiones de los mapas de features en cada capa:"
   ]
  },
  {
   "cell_type": "code",
   "execution_count": 13,
   "id": "608c766a",
   "metadata": {
    "scrolled": true
   },
   "outputs": [
    {
     "name": "stdout",
     "output_type": "stream",
     "text": [
      "Model: \"sequential\"\n",
      "_________________________________________________________________\n",
      " Layer (type)                Output Shape              Param #   \n",
      "=================================================================\n",
      " conv2d_3 (Conv2D)           (None, 148, 148, 32)      896       \n",
      "                                                                 \n",
      " max_pooling2d_2 (MaxPooling  (None, 74, 74, 32)       0         \n",
      " 2D)                                                             \n",
      "                                                                 \n",
      " conv2d_4 (Conv2D)           (None, 72, 72, 64)        18496     \n",
      "                                                                 \n",
      " max_pooling2d_3 (MaxPooling  (None, 36, 36, 64)       0         \n",
      " 2D)                                                             \n",
      "                                                                 \n",
      " conv2d_5 (Conv2D)           (None, 34, 34, 128)       73856     \n",
      "                                                                 \n",
      " max_pooling2d_4 (MaxPooling  (None, 17, 17, 128)      0         \n",
      " 2D)                                                             \n",
      "                                                                 \n",
      " conv2d_6 (Conv2D)           (None, 15, 15, 128)       147584    \n",
      "                                                                 \n",
      " max_pooling2d_5 (MaxPooling  (None, 7, 7, 128)        0         \n",
      " 2D)                                                             \n",
      "                                                                 \n",
      " flatten_1 (Flatten)         (None, 6272)              0         \n",
      "                                                                 \n",
      " dense_1 (Dense)             (None, 512)               3211776   \n",
      "                                                                 \n",
      " dense_2 (Dense)             (None, 1)                 513       \n",
      "                                                                 \n",
      "=================================================================\n",
      "Total params: 3,453,121\n",
      "Trainable params: 3,453,121\n",
      "Non-trainable params: 0\n",
      "_________________________________________________________________\n"
     ]
    }
   ],
   "source": [
    "model.summary()"
   ]
  },
  {
   "cell_type": "code",
   "execution_count": 15,
   "id": "f81b0e12",
   "metadata": {},
   "outputs": [],
   "source": [
    "from keras import optimizers\n",
    "\n",
    "model.compile(loss='binary_crossentropy',\n",
    "              optimizer=optimizers.RMSprop(learning_rate=1e-4),\n",
    "              metrics=['acc'])"
   ]
  },
  {
   "cell_type": "markdown",
   "id": "a107e39e",
   "metadata": {},
   "source": [
    "### Preprocesamiento de las imágenes:"
   ]
  },
  {
   "cell_type": "code",
   "execution_count": 16,
   "id": "4d11f8f3",
   "metadata": {},
   "outputs": [
    {
     "name": "stdout",
     "output_type": "stream",
     "text": [
      "Found 2000 images belonging to 2 classes.\n",
      "Found 1000 images belonging to 2 classes.\n"
     ]
    }
   ],
   "source": [
    "from keras.preprocessing.image import ImageDataGenerator\n",
    "\n",
    "# Reescalamos todas las imagenes en un factor de 1./255\n",
    "train_datagen = ImageDataGenerator(rescale=1./255)\n",
    "test_datagen = ImageDataGenerator(rescale=1./255)\n",
    "\n",
    "train_generator = train_datagen.flow_from_directory(\n",
    "        # Directorio target\n",
    "        train_dir,\n",
    "        # Reescalamos las imagenes a tamaño 150x150\n",
    "        target_size=(150, 150),\n",
    "        batch_size=20,\n",
    "        # Usamos etiquetas binarias, ya que usamos binary_crossentropy\n",
    "        class_mode='binary')\n",
    "\n",
    "validation_generator = test_datagen.flow_from_directory(\n",
    "        validation_dir,\n",
    "        target_size=(150, 150),\n",
    "        batch_size=20,\n",
    "        class_mode='binary')"
   ]
  },
  {
   "cell_type": "markdown",
   "id": "975769c5",
   "metadata": {},
   "source": [
    "#### Debemos romper el ciclo de iteración del generador de imágenes:"
   ]
  },
  {
   "cell_type": "code",
   "execution_count": 17,
   "id": "d2585b4f",
   "metadata": {},
   "outputs": [
    {
     "name": "stdout",
     "output_type": "stream",
     "text": [
      "data batch shape: (20, 150, 150, 3)\n",
      "labels batch shape: (20,)\n"
     ]
    }
   ],
   "source": [
    "for data_batch, labels_batch in train_generator:\n",
    "    print('data batch shape:', data_batch.shape)\n",
    "    print('labels batch shape:', labels_batch.shape)\n",
    "    break"
   ]
  },
  {
   "cell_type": "markdown",
   "id": "00e39aa0",
   "metadata": {},
   "source": [
    "#### Se usarán 5 épocas o instancias de entrenamiento. (Las veces que el modelo \"mira\" las imágenes). Se usará como métrica la exactitud para predecir (Accuracy)"
   ]
  },
  {
   "cell_type": "code",
   "execution_count": 20,
   "id": "dbc0644e",
   "metadata": {
    "scrolled": true
   },
   "outputs": [
    {
     "name": "stdout",
     "output_type": "stream",
     "text": [
      "Epoch 1/5\n"
     ]
    },
    {
     "name": "stderr",
     "output_type": "stream",
     "text": [
      "C:\\Users\\jorge.cotella\\AppData\\Local\\Temp\\ipykernel_4860\\2640413749.py:1: UserWarning: `Model.fit_generator` is deprecated and will be removed in a future version. Please use `Model.fit`, which supports generators.\n",
      "  history = model.fit_generator(\n"
     ]
    },
    {
     "name": "stdout",
     "output_type": "stream",
     "text": [
      "50/50 [==============================] - 24s 488ms/step - loss: 0.5620 - acc: 0.6940 - val_loss: 0.6139 - val_acc: 0.6500\n",
      "Epoch 2/5\n",
      "50/50 [==============================] - 28s 569ms/step - loss: 0.5630 - acc: 0.7000 - val_loss: 0.5826 - val_acc: 0.6980\n",
      "Epoch 3/5\n",
      "50/50 [==============================] - 27s 536ms/step - loss: 0.5384 - acc: 0.7240 - val_loss: 0.5867 - val_acc: 0.6990\n",
      "Epoch 4/5\n",
      "50/50 [==============================] - 26s 518ms/step - loss: 0.5344 - acc: 0.7310 - val_loss: 0.5821 - val_acc: 0.6830\n",
      "Epoch 5/5\n",
      "50/50 [==============================] - 25s 497ms/step - loss: 0.5226 - acc: 0.7420 - val_loss: 0.5730 - val_acc: 0.7050\n"
     ]
    }
   ],
   "source": [
    "history = model.fit_generator(\n",
    "      train_generator,\n",
    "      steps_per_epoch=50,\n",
    "      epochs=5,\n",
    "      validation_data=validation_generator,\n",
    "      validation_steps=50)"
   ]
  },
  {
   "cell_type": "markdown",
   "id": "88515050",
   "metadata": {},
   "source": [
    "#### Guardo el modelo:"
   ]
  },
  {
   "cell_type": "code",
   "execution_count": 21,
   "id": "74a0c703",
   "metadata": {},
   "outputs": [],
   "source": [
    "model.save('cats_and_dogs_small_1.h5')"
   ]
  },
  {
   "cell_type": "markdown",
   "id": "541ca7f3",
   "metadata": {},
   "source": [
    "#### Grafico la pérdida y accuracy del modelo en la data de entrenamiento y validacion, durante el entrenamiento:"
   ]
  },
  {
   "cell_type": "code",
   "execution_count": 22,
   "id": "b4aa19e1",
   "metadata": {
    "scrolled": true
   },
   "outputs": [
    {
     "data": {
      "image/png": "[encoded data removed]",
      "text/plain": [
       "<Figure size 432x288 with 1 Axes>"
      ]
     },
     "metadata": {
      "needs_background": "light"
     },
     "output_type": "display_data"
    },
    {
     "data": {
      "image/png": "[encoded data removed]",
      "text/plain": [
       "<Figure size 432x288 with 1 Axes>"
      ]
     },
     "metadata": {
      "needs_background": "light"
     },
     "output_type": "display_data"
    }
   ],
   "source": [
    "import matplotlib.pyplot as plt\n",
    "\n",
    "acc = history.history['acc']\n",
    "val_acc = history.history['val_acc']\n",
    "loss = history.history['loss']\n",
    "val_loss = history.history['val_loss']\n",
    "\n",
    "epochs = range(len(acc))\n",
    "\n",
    "plt.plot(epochs, acc, 'bo', label='Training acc')\n",
    "plt.plot(epochs, val_acc, 'b', label='Validation acc')\n",
    "plt.title('Training and validation accuracy')\n",
    "plt.legend()\n",
    "\n",
    "plt.figure()\n",
    "\n",
    "plt.plot(epochs, loss, 'bo', label='Training loss')\n",
    "plt.plot(epochs, val_loss, 'b', label='Validation loss')\n",
    "plt.title('Training and validation loss')\n",
    "plt.legend()\n",
    "\n",
    "plt.show()"
   ]
  },
  {
   "cell_type": "markdown",
   "id": "f9d25721",
   "metadata": {},
   "source": [
    "#### El accuracy de train aumenta hasta el 74% aprox. El de validación hasta el 70% y luego se detiene. Nuestra pérdida de validación alcanza un mínimo en torno al 58% en la primer época."
   ]
  },
  {
   "cell_type": "code",
   "execution_count": null,
   "id": "680b0310",
   "metadata": {},
   "outputs": [],
   "source": []
  },
  {
   "cell_type": "code",
   "execution_count": null,
   "id": "150c0bb6",
   "metadata": {},
   "outputs": [],
   "source": []
  }
 ],
 "metadata": {
  "kernelspec": {
   "display_name": "Python 3 (ipykernel)",
   "language": "python",
   "name": "python3"
  },
  "language_info": {
   "codemirror_mode": {
    "name": "ipython",
    "version": 3
   },
   "file_extension": ".py",
   "mimetype": "text/x-python",
   "name": "python",
   "nbconvert_exporter": "python",
   "pygments_lexer": "ipython3",
   "version": "3.9.12"
  }
 },
 "nbformat": 4,
 "nbformat_minor": 5
}
